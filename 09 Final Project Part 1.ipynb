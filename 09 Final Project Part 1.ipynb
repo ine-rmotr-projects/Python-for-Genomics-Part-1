{
 "cells": [
  {
   "cell_type": "markdown",
   "metadata": {},
   "source": [
    "![filo_virion](https://user-images.githubusercontent.com/22747792/73687685-7111bc00-467f-11ea-906e-e16132529840.png)\n",
    "\n",
    "# Python for Genomics \n",
    "## Section 9: Final Project Part 1 - building genomic features summary calculator\n",
    "\n",
    "Welcome to your final project! I'm so glad you made it 👊🏼 🎉\n",
    "\n",
    "Now that you've learned some python tools for working with genetic data, let's build something together.\n",
    "\n",
    "We'll be pulling in all the knowledge that we've learned so far, so feel free to look at past notebooks for ideas.\n",
    "\n",
    "### Here is the brief:\n",
    "Let's say we had to build a diagnostic test that detects the DNA (Ebola is actually RNA, but for testing, we can speak in terms of DNA since that is what is represented in genbank and the sequences.) We need the most conserved gene. What is the most conserved gene from all the past ebola outbreaks? Where should we focus our studies?\n",
    "\n",
    "The first thing we'll do is build a small script that gives us an overview of the Ebola virus's genome. \n",
    "\n",
    "### Build a Viral Genome Statistics Summary Calculator. \n",
    "\n",
    "#### The input for this calculator will be a genbank file containing a single record. \n",
    "We will we building this small calculator using the reference genome for ebola: KM034562. \n",
    "\n",
    "#### The output will be a text summary containing:\n",
    "\n",
    "\n",
    "    1. how many genes in the genome;\n",
    "    2. total length of the genome;\n",
    "    and for every gene provide/calculate:\n",
    "    3. gene name;\n",
    "    4. its length;\n",
    "    5. its GC content;\n",
    "    6. no. of A's;\n",
    "    7. T's;\n",
    "    8. C's;\n",
    "    9. G's;\n",
    "    10. N's;\n",
    "\n",
    "#### The best way to go about this is to split up your tasks into chunks. \n",
    "\n",
    "I see two main chunks: the first one, which give an overview of the entire genome. That can be accomplished by referencing attributes in the SeqRecord object.\n",
    "\n",
    "The second chunk is based on SeqFeatures, so we'll have to get into each feature and perform some specific tasks there.\n",
    "\n",
    "![purple-divider](https://user-images.githubusercontent.com/7065401/52071927-c1cd7100-2562-11e9-908a-dde91ba14e59.png)"
   ]
  },
  {
   "cell_type": "markdown",
   "metadata": {},
   "source": [
    "Alright, let's do our imports up here. I'll fill them in for us so go ahead and just run the cell."
   ]
  },
  {
   "cell_type": "code",
   "execution_count": 6,
   "metadata": {},
   "outputs": [],
   "source": [
    "from Bio import Seq, SeqIO, SeqUtils\n",
    "from Bio.SeqRecord import SeqRecord"
   ]
  },
  {
   "cell_type": "markdown",
   "metadata": {},
   "source": [
    "Now for the data. I'm going to show you how I get the data for this, but, you can just use what I put in the data folder. We're going to be building our calculator using a reference sequence for Ebola first. The ref seq is accession KM034562.\n",
    "\n",
    "We can retrieve it like this:"
   ]
  },
  {
   "cell_type": "code",
   "execution_count": 1,
   "metadata": {},
   "outputs": [],
   "source": [
    "from Bio import Entrez\n",
    "\n",
    "Entrez.email = 'your email here'\n",
    "\n",
    "new_file_handle = open('data/KM034562.gb', 'w')\n",
    "\n",
    "efetch_handle = Entrez.efetch(db='nucleotide', id='KM034562', rettype='gb', retmode='text',)\n",
    "downloaded_record_handle = efetch_handle.read()\n",
    "\n",
    "new_file_handle.write(downloaded_record_handle)\n",
    "efetch_handle.close()"
   ]
  },
  {
   "cell_type": "markdown",
   "metadata": {},
   "source": [
    "Now we have our data saved in our folder. Time to design our calculator.\n",
    "\n",
    "The first order of business is to find all the genes, so let's do that first. \n",
    "\n",
    "So first, read in your file, then loop through all the features objects contained within the SeqRecord's feature attribute list. Then just print all the feature that you find that are of the type \"gene\"."
   ]
  },
  {
   "cell_type": "code",
   "execution_count": 25,
   "metadata": {},
   "outputs": [],
   "source": [
    "# your code goes here..."
   ]
  },
  {
   "cell_type": "markdown",
   "metadata": {},
   "source": [
    "### Now we are going to tidy this information up into a summary for action item 1.\n",
    "Fix the output of your little script so that it prints a statement like this:\n",
    "\n",
    "---\n",
    "GENOMIC SUMMARY for:\n",
    "<br>\n",
    "(insert genome description here)\n",
    "<br>\n",
    "(insert genome accession here)\n",
    "\n",
    "\n",
    "The total length of the genome is (insert number here) bases.\n",
    "<br>\n",
    "There are (insert number here) genes.\n",
    "<br>\n",
    "The gene names are: \n",
    "<br>\n",
    "(insert list of gene names here)\n",
    "---\n",
    "You can go ahead and just provide the list of gene names as a list, it's not pretty but it will work for our little calculator."
   ]
  },
  {
   "cell_type": "code",
   "execution_count": null,
   "metadata": {},
   "outputs": [],
   "source": [
    "# your code goes here..."
   ]
  },
  {
   "cell_type": "markdown",
   "metadata": {},
   "source": [
    "### OK! We have the initial part of our summary, now let's start to gather the statistics for every gene. \n",
    "\n",
    "Remember we want these bits of info for every gene:\n",
    "* gene name;\n",
    "* its length;\n",
    "* its GC content;\n",
    "* no. of A's;\n",
    "* T's;\n",
    "* C's;\n",
    "* G's;\n",
    "* N's;\n",
    "\n",
    "So the first order of business is to get inside each feature and run some calculations."
   ]
  },
  {
   "cell_type": "code",
   "execution_count": 47,
   "metadata": {},
   "outputs": [],
   "source": [
    "# your code goes here..."
   ]
  },
  {
   "cell_type": "markdown",
   "metadata": {},
   "source": [
    "### Ok, now that we have the two components, let's just put them all together inside one function that takes one argument - the genbank record. That way if we ever have to use it, we can come back to this notebook and just change around the input file.\n",
    "\n",
    "You can present the data however you feel is nice and tidy up the code if you like. "
   ]
  },
  {
   "cell_type": "code",
   "execution_count": 4,
   "metadata": {},
   "outputs": [],
   "source": [
    "# Your code here ...\n",
    "\n",
    "from Bio import SeqIO\n",
    "from Bio.SeqUtils import GC\n",
    "\n",
    "def genome_stat_calc(genbank_record):\n",
    "    pass\n",
    "\n"
   ]
  },
  {
   "cell_type": "markdown",
   "metadata": {},
   "source": [
    "Now there are so many ways to accomplish this, and definitely tighten up the code to make it more concise.\n",
    "That only works if you will be able to understand it later though. I tend to err on the side of being more verbose, or explanatory, so that when I come back to code in a few months I knew what the heck I was doing. \n",
    "\n",
    "But isn't that cool? We just built a custom calculator using bipython. \n",
    "\n",
    "### Great job!! 🥳"
   ]
  }
 ],
 "metadata": {
  "kernelspec": {
   "display_name": "Python 3",
   "language": "python",
   "name": "python3"
  },
  "language_info": {
   "codemirror_mode": {
    "name": "ipython",
    "version": 3
   },
   "file_extension": ".py",
   "mimetype": "text/x-python",
   "name": "python",
   "nbconvert_exporter": "python",
   "pygments_lexer": "ipython3",
   "version": "3.8.0"
  }
 },
 "nbformat": 4,
 "nbformat_minor": 4
}
